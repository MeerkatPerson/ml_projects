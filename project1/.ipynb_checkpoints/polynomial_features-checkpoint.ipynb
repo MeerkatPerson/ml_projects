{
 "cells": [
  {
   "cell_type": "code",
   "execution_count": 1,
   "metadata": {},
   "outputs": [],
   "source": [
    "import numpy as np\n",
    "import sklearn as sk\n",
    "import pandas as pd"
   ]
  },
  {
   "cell_type": "code",
   "execution_count": 2,
   "metadata": {},
   "outputs": [
    {
     "data": {
      "text/plain": [
       "(array([[2, 3, 4],\n",
       "        [2, 3, 4]]),\n",
       " array([[16, 12,  9,  8,  6,  4],\n",
       "        [16, 12,  9,  8,  6,  4]], dtype=int32))"
      ]
     },
     "execution_count": 2,
     "metadata": {},
     "output_type": "execute_result"
    }
   ],
   "source": [
    "def get_exponents(n_variables, degree):\n",
    "    \"\"\"Generates the eponents for all the monomials of degreeGenerates a list of lists using a recursive function\"\"\"\n",
    "    #initial step\n",
    "    if n_variables == 1:\n",
    "        yield [degree]\n",
    "        return\n",
    "    #recursive step\n",
    "    for i in range(degree + 1):\n",
    "        for t in get_exponents(n_variables - 1, degree - i):\n",
    "            yield [i] + t\n",
    "\n",
    "def exponents(n_variables, degree):\n",
    "    \"\"\"Transforms the output of get_exponents in a numpy array\"\"\"\n",
    "    #create a list\n",
    "    exp = [e for e in get_exponents(n_variables, degree)]\n",
    "    #cast it to np.array\n",
    "    exp = np.array(exp)\n",
    "    return exp\n",
    "\n",
    "def gen_new_features(x, degree):\n",
    "    \"\"\"Generate the new features, generated using an homogeneous polynomial of a given degree.\n",
    "    # Input: \n",
    "    x, array of shape (n_samples, n_initial_features)\n",
    "    # Returns: \n",
    "    res, array  of shape (n_samples, n_monomials_in_homogeneous_polynomial)\"\"\"\n",
    "    #reshape x to allow broadcasting\n",
    "    x =  np.expand_dims(x, axis = 1)\n",
    "    #get the exponents\n",
    "    exp = exponents(n_variables=x.shape[-1], degree= degree )\n",
    "    #compute the new features\n",
    "    res = x**exp\n",
    "    res = res.prod(axis = -1)\n",
    "    return res\n",
    "    \n",
    "#test the functions\n",
    "#create the fake data\n",
    "x = (np.arange(3)+2).reshape(1, -1)\n",
    "x = np.append(x, x, axis = 0)\n",
    "\n",
    "x, gen_new_features(x, 2)"
   ]
  },
  {
   "cell_type": "code",
   "execution_count": 3,
   "metadata": {},
   "outputs": [
    {
     "name": "stdout",
     "output_type": "stream",
     "text": [
      "Linear, training set score: 0.6738\n"
     ]
    }
   ],
   "source": [
    "from sklearn.linear_model import LogisticRegression\n",
    "\n",
    "#import data\n",
    "data = pd.read_csv('./data/train.csv.zip')\n",
    "data.replace( -999., np.NaN, inplace=True)\n",
    "\n",
    "#remove the columns containing missing values\n",
    "#DER columns\n",
    "der_headers = [x for x in data.columns if 'DER' in x]\n",
    "#PRI columns containing lead\n",
    "leading_pri_headers = [x for x in data.columns if 'leading' in x]\n",
    "data.drop(columns=der_headers+leading_pri_headers, inplace = True)\n",
    "\n",
    "x = data.drop(columns=['Prediction'])\n",
    "x = x.values[:10000]\n",
    "y = data['Prediction'][:10000]\n",
    "\n",
    "#linear regression\n",
    "clf = LogisticRegression(random_state=0).fit(x, y)\n",
    "print('Linear, training set score:', clf.score(x, y))\n"
   ]
  },
  {
   "cell_type": "code",
   "execution_count": 4,
   "metadata": {},
   "outputs": [
    {
     "name": "stdout",
     "output_type": "stream",
     "text": [
      "Linear, training set score: 0.677\n"
     ]
    }
   ],
   "source": [
    "new_features = gen_new_features(x, 2)\n",
    "x = np.append(x, new_features, axis = 1)\n",
    "clf = LogisticRegression(random_state=0).fit(x, y)\n",
    "print('Linear, training set score:', clf.score(x, y))"
   ]
  },
  {
   "cell_type": "code",
   "execution_count": 5,
   "metadata": {},
   "outputs": [
    {
     "ename": "MemoryError",
     "evalue": "Unable to allocate 842. GiB for an array with shape (10000, 125580, 90) and data type float64",
     "output_type": "error",
     "traceback": [
      "\u001b[1;31m---------------------------------------------------------------------------\u001b[0m",
      "\u001b[1;31mMemoryError\u001b[0m                               Traceback (most recent call last)",
      "\u001b[1;32m<ipython-input-5-bc275d541098>\u001b[0m in \u001b[0;36m<module>\u001b[1;34m\u001b[0m\n\u001b[1;32m----> 1\u001b[1;33m \u001b[0mnew_features\u001b[0m \u001b[1;33m=\u001b[0m \u001b[0mgen_new_features\u001b[0m\u001b[1;33m(\u001b[0m\u001b[0mx\u001b[0m\u001b[1;33m,\u001b[0m \u001b[1;36m3\u001b[0m\u001b[1;33m)\u001b[0m\u001b[1;33m\u001b[0m\u001b[1;33m\u001b[0m\u001b[0m\n\u001b[0m\u001b[0;32m      2\u001b[0m \u001b[0mx\u001b[0m \u001b[1;33m=\u001b[0m \u001b[0mnp\u001b[0m\u001b[1;33m.\u001b[0m\u001b[0mappend\u001b[0m\u001b[1;33m(\u001b[0m\u001b[0mx\u001b[0m\u001b[1;33m,\u001b[0m \u001b[0mnew_features\u001b[0m\u001b[1;33m,\u001b[0m \u001b[0maxis\u001b[0m \u001b[1;33m=\u001b[0m \u001b[1;36m1\u001b[0m\u001b[1;33m)\u001b[0m\u001b[1;33m\u001b[0m\u001b[1;33m\u001b[0m\u001b[0m\n\u001b[0;32m      3\u001b[0m \u001b[0mclf\u001b[0m \u001b[1;33m=\u001b[0m \u001b[0mLogisticRegression\u001b[0m\u001b[1;33m(\u001b[0m\u001b[0mrandom_state\u001b[0m\u001b[1;33m=\u001b[0m\u001b[1;36m0\u001b[0m\u001b[1;33m)\u001b[0m\u001b[1;33m.\u001b[0m\u001b[0mfit\u001b[0m\u001b[1;33m(\u001b[0m\u001b[0mx\u001b[0m\u001b[1;33m,\u001b[0m \u001b[0my\u001b[0m\u001b[1;33m)\u001b[0m\u001b[1;33m\u001b[0m\u001b[1;33m\u001b[0m\u001b[0m\n\u001b[0;32m      4\u001b[0m \u001b[0mprint\u001b[0m\u001b[1;33m(\u001b[0m\u001b[1;34m'Linear, training set score:'\u001b[0m\u001b[1;33m,\u001b[0m \u001b[0mclf\u001b[0m\u001b[1;33m.\u001b[0m\u001b[0mscore\u001b[0m\u001b[1;33m(\u001b[0m\u001b[0mx\u001b[0m\u001b[1;33m,\u001b[0m \u001b[0my\u001b[0m\u001b[1;33m)\u001b[0m\u001b[1;33m)\u001b[0m\u001b[1;33m\u001b[0m\u001b[1;33m\u001b[0m\u001b[0m\n",
      "\u001b[1;32m<ipython-input-2-e5f3bd4dffed>\u001b[0m in \u001b[0;36mgen_new_features\u001b[1;34m(x, degree)\u001b[0m\n\u001b[0;32m     29\u001b[0m     \u001b[0mexp\u001b[0m \u001b[1;33m=\u001b[0m \u001b[0mexponents\u001b[0m\u001b[1;33m(\u001b[0m\u001b[0mn_variables\u001b[0m\u001b[1;33m=\u001b[0m\u001b[0mx\u001b[0m\u001b[1;33m.\u001b[0m\u001b[0mshape\u001b[0m\u001b[1;33m[\u001b[0m\u001b[1;33m-\u001b[0m\u001b[1;36m1\u001b[0m\u001b[1;33m]\u001b[0m\u001b[1;33m,\u001b[0m \u001b[0mdegree\u001b[0m\u001b[1;33m=\u001b[0m \u001b[0mdegree\u001b[0m \u001b[1;33m)\u001b[0m\u001b[1;33m\u001b[0m\u001b[1;33m\u001b[0m\u001b[0m\n\u001b[0;32m     30\u001b[0m     \u001b[1;31m#compute the new features\u001b[0m\u001b[1;33m\u001b[0m\u001b[1;33m\u001b[0m\u001b[1;33m\u001b[0m\u001b[0m\n\u001b[1;32m---> 31\u001b[1;33m     \u001b[0mres\u001b[0m \u001b[1;33m=\u001b[0m \u001b[0mx\u001b[0m\u001b[1;33m**\u001b[0m\u001b[0mexp\u001b[0m\u001b[1;33m\u001b[0m\u001b[1;33m\u001b[0m\u001b[0m\n\u001b[0m\u001b[0;32m     32\u001b[0m     \u001b[0mres\u001b[0m \u001b[1;33m=\u001b[0m \u001b[0mres\u001b[0m\u001b[1;33m.\u001b[0m\u001b[0mprod\u001b[0m\u001b[1;33m(\u001b[0m\u001b[0maxis\u001b[0m \u001b[1;33m=\u001b[0m \u001b[1;33m-\u001b[0m\u001b[1;36m1\u001b[0m\u001b[1;33m)\u001b[0m\u001b[1;33m\u001b[0m\u001b[1;33m\u001b[0m\u001b[0m\n\u001b[0;32m     33\u001b[0m     \u001b[1;32mreturn\u001b[0m \u001b[0mres\u001b[0m\u001b[1;33m\u001b[0m\u001b[1;33m\u001b[0m\u001b[0m\n",
      "\u001b[1;31mMemoryError\u001b[0m: Unable to allocate 842. GiB for an array with shape (10000, 125580, 90) and data type float64"
     ]
    }
   ],
   "source": [
    "new_features = gen_new_features(x, 3)\n",
    "x = np.append(x, new_features, axis = 1)\n",
    "clf = LogisticRegression(random_state=0).fit(x, y)\n",
    "print('Linear, training set score:', clf.score(x, y))"
   ]
  },
  {
   "cell_type": "code",
   "execution_count": 6,
   "metadata": {},
   "outputs": [],
   "source": [
    "def number_monomials(n_variables, degree):\n",
    "    \"\"\"Computes how many ters has an homogeneous polynomial of a given degree and \n",
    "    with a given n_variables\"\"\"\n",
    "    a = np.math.factorial(n_variables + degree - 1)\n",
    "    b = np.math.factorial(degree)\n",
    "    c = np.math.factorial(n_variables - 1)\n",
    "    return a/(b*c)"
   ]
  },
  {
   "cell_type": "code",
   "execution_count": 8,
   "metadata": {},
   "outputs": [
    {
     "name": "stdout",
     "output_type": "stream",
     "text": [
      "84 84.0\n"
     ]
    },
    {
     "data": {
      "image/png": "[encoded data removed]",
      "text/plain": [
       "<Figure size 432x288 with 1 Axes>"
      ]
     },
     "metadata": {
      "needs_background": "light"
     },
     "output_type": "display_data"
    }
   ],
   "source": [
    "import matplotlib.pyplot as plt\n",
    "n_variables = 4\n",
    "degree = 6\n",
    "\n",
    "#check that the feature generator is working properly\n",
    "features = gen_new_features(np.arange(n_variables).reshape(1, -1), degree)\n",
    "print(features.shape[-1], number_monomials(n_variables, degree))\n",
    "\n",
    "#make a plot\n",
    "n_variables = 11\n",
    "y = [number_monomials(n_variables, degree) for degree in range(2, 7)]\n",
    "x = [ degree for degree in range(2, 7)]\n",
    "\n",
    "ax = plt.scatter(x, y)\n",
    "_ = plt.xlabel('Degree')\n",
    "_ = plt.ylabel('Number of monomials')\n",
    "_ = plt.title('N_variables = 11')"
   ]
  },
  {
   "cell_type": "code",
   "execution_count": 9,
   "metadata": {},
   "outputs": [
    {
     "name": "stdout",
     "output_type": "stream",
     "text": [
      "[66.0, 286.0, 1001.0, 3003.0, 8008.0]\n"
     ]
    }
   ],
   "source": [
    "print(y)"
   ]
  },
  {
   "cell_type": "code",
   "execution_count": null,
   "metadata": {},
   "outputs": [],
   "source": []
  }
 ],
 "metadata": {
  "interpreter": {
   "hash": "7f89a89aa964b5e0e29a0e1d0886160f39ebbf2130b1a0b091fb1771632a4492"
  },
  "kernelspec": {
   "display_name": "Python 3 (ipykernel)",
   "language": "python",
   "name": "python3"
  },
  "language_info": {
   "codemirror_mode": {
    "name": "ipython",
    "version": 3
   },
   "file_extension": ".py",
   "mimetype": "text/x-python",
   "name": "python",
   "nbconvert_exporter": "python",
   "pygments_lexer": "ipython3",
   "version": "3.8.3"
  }
 },
 "nbformat": 4,
 "nbformat_minor": 2
}
