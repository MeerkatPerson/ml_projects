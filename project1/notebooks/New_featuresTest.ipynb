{
 "cells": [
  {
   "cell_type": "code",
   "execution_count": 1,
   "metadata": {},
   "outputs": [],
   "source": [
    "import numpy as np\n",
    "from features_ext import *\n",
    "import sys\n",
    "sys.path.insert(0, '../scripts') "
   ]
  },
  {
   "cell_type": "code",
   "execution_count": 33,
   "metadata": {},
   "outputs": [
    {
     "name": "stdout",
     "output_type": "stream",
     "text": [
      "Expanded shape:  (100, 90) number of monomials in degree 2:\t 78\n"
     ]
    }
   ],
   "source": [
    "#define \n",
    "n_variables = 12\n",
    "degree = 2\n",
    "features_per_group =  20\n",
    "\n",
    "#generate the exponents\n",
    "k_exponents = exponents(n_variables, degree, features_per_group, non_interaction_first=True)\n",
    "\n",
    "#generate the sample dataset\n",
    "x_train = np.random.randn(100, n_variables)\n",
    "y_train = np.random.choice([0., 1.], size = (100, ))\n",
    "\n",
    "#add the non-interacting features\n",
    "new_features = gen_new_features(x_train, k_exponents[0])\n",
    "expanded_train = np.append(x_train, new_features, axis = 1 )\n",
    "\n",
    "#add all other features\n",
    "for n, e in enumerate(k_exponents[1:]):\n",
    "    new_features = gen_new_features(x_train, e)\n",
    "    expanded_train = np.append(expanded_train, new_features, axis = 1 )\n",
    "\n",
    "#print the shape of the expanded dataset\n",
    "print('Expanded shape: ', expanded_train.shape, 'number of monomials in degree 2:\\t', int(number_monomials(n_variables = n_variables, degree = degree)))"
   ]
  },
  {
   "cell_type": "code",
   "execution_count": 45,
   "metadata": {},
   "outputs": [
    {
     "data": {
      "text/plain": [
       "array([[0, 0, 0, 0, 0, 0, 0, 0, 0, 0, 0, 2],\n",
       "       [0, 0, 0, 0, 0, 0, 0, 0, 0, 0, 2, 0],\n",
       "       [0, 0, 0, 0, 0, 0, 0, 0, 0, 2, 0, 0],\n",
       "       [0, 0, 0, 0, 0, 0, 0, 0, 2, 0, 0, 0],\n",
       "       [0, 0, 0, 0, 0, 0, 0, 2, 0, 0, 0, 0],\n",
       "       [0, 0, 0, 0, 0, 0, 2, 0, 0, 0, 0, 0],\n",
       "       [0, 0, 0, 0, 0, 2, 0, 0, 0, 0, 0, 0],\n",
       "       [0, 0, 0, 0, 2, 0, 0, 0, 0, 0, 0, 0],\n",
       "       [0, 0, 0, 2, 0, 0, 0, 0, 0, 0, 0, 0],\n",
       "       [0, 0, 2, 0, 0, 0, 0, 0, 0, 0, 0, 0],\n",
       "       [0, 2, 0, 0, 0, 0, 0, 0, 0, 0, 0, 0],\n",
       "       [2, 0, 0, 0, 0, 0, 0, 0, 0, 0, 0, 0]])"
      ]
     },
     "execution_count": 45,
     "metadata": {},
     "output_type": "execute_result"
    }
   ],
   "source": [
    "k_exponents[0]"
   ]
  },
  {
   "cell_type": "code",
   "execution_count": 60,
   "metadata": {},
   "outputs": [
    {
     "name": "stdout",
     "output_type": "stream",
     "text": [
      "Feature selected =  0\n"
     ]
    },
    {
     "data": {
      "image/png": "[encoded data removed]",
      "text/plain": [
       "<Figure size 432x288 with 1 Axes>"
      ]
     },
     "metadata": {
      "needs_background": "light"
     },
     "output_type": "display_data"
    }
   ],
   "source": [
    "#Additional: check plotting the dataset\n",
    "import matplotlib.pyplot as plt\n",
    "select = np.random.randint(low = 0, high = n_variables-1)\n",
    "print('Feature selected = ', select)\n",
    "plt.scatter(expanded_train[:, select], expanded_train[:, n_variables-1 + (n_variables -select)]) #due to the weird correspondence in the exponents (see above)\n",
    "plt.xlabel('Original feature')\n",
    "plt.ylabel('Corresponding non-interacting additional feature')\n",
    "_ = plt.title('Check on additional features')"
   ]
  },
  {
   "cell_type": "code",
   "execution_count": 3,
   "metadata": {},
   "outputs": [],
   "source": [
    "#generate the sample dataset\n",
    "x_train = np.random.randn(100, 12)\n",
    "y_train = np.random.choice([0., 1.], size = (100, ))"
   ]
  },
  {
   "cell_type": "code",
   "execution_count": 59,
   "metadata": {},
   "outputs": [],
   "source": [
    "n_features = 5\n",
    "n_rows = 20\n",
    "def selec_rows_features(x, degree, n_features, n_rows):\n",
    "    #select the number of features/rows\n",
    "    subset_of_features = x[:, np.random.permutation(x.shape[1])[:n_features] ]\n",
    "    print(subset_of_features.shape)\n",
    "    subset_of_rows = subset_of_features[ np.random.permutation(subset_of_features.shape[0])[:n_rows] ]\n",
    "    print(subset_of_rows.shape)\n",
    "\n",
    "    #build the polynomial to a given degree w.o interacting terms\n",
    "    expanded = build_poly_standard(subset_of_rows, degree)\n",
    "\n",
    "    #add the interaction terms\n",
    "    k_exponents = exponents(subset_of_rows.shape[1], 2, int(number_monomials(subset_of_rows.shape[0], 2)), non_interaction_first=True)\n",
    "    interactions =  gen_new_features(subset_of_rows, k_exponents[1])\n",
    "    expanded  = np.concatenate((expanded, interactions), axis = 1)\n",
    "\n",
    "    return expanded"
   ]
  },
  {
   "cell_type": "code",
   "execution_count": 60,
   "metadata": {},
   "outputs": [
    {
     "name": "stdout",
     "output_type": "stream",
     "text": [
      "(100, 5)\n",
      "(50, 5)\n"
     ]
    },
    {
     "data": {
      "text/plain": [
       "(50, 26)"
      ]
     },
     "execution_count": 60,
     "metadata": {},
     "output_type": "execute_result"
    }
   ],
   "source": [
    "out = selec_rows_features(x_train, 3, 5, 50 )\n",
    "out.shape"
   ]
  },
  {
   "cell_type": "code",
   "execution_count": 52,
   "metadata": {},
   "outputs": [
    {
     "data": {
      "text/plain": [
       "(50, 26)"
      ]
     },
     "execution_count": 52,
     "metadata": {},
     "output_type": "execute_result"
    }
   ],
   "source": [
    "(50,5*3+1+ 10)"
   ]
  },
  {
   "cell_type": "code",
   "execution_count": 37,
   "metadata": {},
   "outputs": [
    {
     "data": {
      "text/plain": [
       "((100, 12), (100, 25))"
      ]
     },
     "execution_count": 37,
     "metadata": {},
     "output_type": "execute_result"
    }
   ],
   "source": [
    "from preprocessing import build_poly_standard\n",
    "\n",
    "x_train.shape, expanded.shape\n",
    "\n",
    "interactions =  gen_new_features(x_train, k_exponents[1])"
   ]
  },
  {
   "cell_type": "code",
   "execution_count": 50,
   "metadata": {},
   "outputs": [
    {
     "data": {
      "text/plain": [
       "10.0"
      ]
     },
     "execution_count": 50,
     "metadata": {},
     "output_type": "execute_result"
    }
   ],
   "source": [
    "number_monomials(5, 2) - 5"
   ]
  },
  {
   "cell_type": "code",
   "execution_count": 43,
   "metadata": {},
   "outputs": [
    {
     "data": {
      "text/plain": [
       "(100, 66)"
      ]
     },
     "execution_count": 43,
     "metadata": {},
     "output_type": "execute_result"
    }
   ],
   "source": [
    "k_exponents = exponents(x_train.shape[1], 2, int(number_monomials(x_train.shape[0], 2)), non_interaction_first=True)\n",
    "interactions =  gen_new_features(x_train, k_exponents[1])\n",
    "interactions.shape"
   ]
  },
  {
   "cell_type": "code",
   "execution_count": 33,
   "metadata": {},
   "outputs": [
    {
     "name": "stdout",
     "output_type": "stream",
     "text": [
      "(100, 5)\n",
      "(20, 5)\n"
     ]
    },
    {
     "data": {
      "text/plain": [
       "(20, 5)"
      ]
     },
     "execution_count": 33,
     "metadata": {},
     "output_type": "execute_result"
    }
   ],
   "source": [
    "sub_dataset = selec_rows_features(x_train, n_features, n_rows).shape\n",
    "degree = 2\n",
    "\n"
   ]
  },
  {
   "cell_type": "code",
   "execution_count": 23,
   "metadata": {},
   "outputs": [
    {
     "data": {
      "text/plain": [
       "array([[0, 0, 1, 1, 0],\n",
       "       [1, 1, 0, 0, 0],\n",
       "       [0, 1, 0, 1, 0],\n",
       "       [0, 1, 0, 0, 1],\n",
       "       [1, 0, 0, 0, 1]])"
      ]
     },
     "execution_count": 23,
     "metadata": {},
     "output_type": "execute_result"
    }
   ],
   "source": [
    "#add the non-interacting features\n",
    "degree = 2\n",
    "b\n",
    "k_exponents[2]"
   ]
  },
  {
   "cell_type": "code",
   "execution_count": 24,
   "metadata": {},
   "outputs": [],
   "source": [
    "new_features = gen_new_features(subset_of_rows, k_exponents[0])\n",
    "expanded_train = np.append(subset_of_rows, new_features, axis = 1 )"
   ]
  },
  {
   "cell_type": "code",
   "execution_count": 29,
   "metadata": {},
   "outputs": [
    {
     "data": {
      "text/plain": [
       "<matplotlib.collections.PathCollection at 0x241de3ae808>"
      ]
     },
     "execution_count": 29,
     "metadata": {},
     "output_type": "execute_result"
    },
    {
     "data": {
      "image/png": "[encoded data removed]",
      "text/plain": [
       "<Figure size 432x288 with 1 Axes>"
      ]
     },
     "metadata": {
      "needs_background": "light"
     },
     "output_type": "display_data"
    }
   ],
   "source": [
    "import matplotlib.pyplot as plt \n",
    "plt.scatter(expanded_train[:, 0], expanded_train[:, 9])"
   ]
  }
 ],
 "metadata": {
  "interpreter": {
   "hash": "7f89a89aa964b5e0e29a0e1d0886160f39ebbf2130b1a0b091fb1771632a4492"
  },
  "kernelspec": {
   "display_name": "Python 3.7.4 64-bit ('tirocinio': conda)",
   "name": "python3"
  },
  "language_info": {
   "codemirror_mode": {
    "name": "ipython",
    "version": 3
   },
   "file_extension": ".py",
   "mimetype": "text/x-python",
   "name": "python",
   "nbconvert_exporter": "python",
   "pygments_lexer": "ipython3",
   "version": "3.7.4"
  }
 },
 "nbformat": 4,
 "nbformat_minor": 2
}
