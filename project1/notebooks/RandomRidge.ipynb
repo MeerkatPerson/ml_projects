{
  "cells": [
    {
      "cell_type": "markdown",
      "id": "331f7831",
      "metadata": {
        "id": "331f7831"
      },
      "source": [
        "# Testing Random Ridge Regression \n"
      ]
    },
    {
      "cell_type": "markdown",
      "id": "Jz14-cf6pvUE",
      "metadata": {
        "id": "Jz14-cf6pvUE"
      },
      "source": [
        "For this classifier, we won't use the same approach as for the other. It takes a lot of ressources to use it and it has a lot of parameters.\n",
        "\n",
        "We'll start with parameters that we select by hand then we'll try to modify each parameter one by one to see their effect on the accuracy.\n",
        "\n",
        "The validation will be done by splitting the data into a training set and a testing set."
      ]
    },
    {
      "cell_type": "code",
      "execution_count": null,
      "id": "3e779cf9",
      "metadata": {
        "id": "3e779cf9"
      },
      "outputs": [],
      "source": [
        "import numpy as np\n",
        "import sys\n",
        "sys.path.insert(0, '../scripts')\n",
        "from proj1_helpers import *         \n",
        "from preprocessing import * \n",
        "                                    \n",
        "from classifiers import *\n",
        "from features_ext import *\n",
        "from utils import *\n"
      ]
    },
    {
      "cell_type": "code",
      "execution_count": null,
      "id": "5c7bb3f9",
      "metadata": {
        "id": "5c7bb3f9"
      },
      "outputs": [],
      "source": [
        "TRAIN = '../data/train.csv'\n"
      ]
    },
    {
      "cell_type": "markdown",
      "id": "-kvEUB1ITKlS",
      "metadata": {
        "id": "-kvEUB1ITKlS"
      },
      "source": [
        "## Load the data and preprocess"
      ]
    },
    {
      "cell_type": "code",
      "execution_count": null,
      "id": "7183031e",
      "metadata": {
        "id": "7183031e"
      },
      "outputs": [],
      "source": [
        "y_train, tx_train, ids_train = load_csv_data(TRAIN)\n"
      ]
    },
    {
      "cell_type": "code",
      "execution_count": null,
      "id": "gbpfqTXQ8HG1",
      "metadata": {
        "id": "gbpfqTXQ8HG1"
      },
      "outputs": [],
      "source": [
        "y, x = preprocess(y_train, tx_train, \"NanToMean\", onehotencoding=True)\n",
        "\n"
      ]
    },
    {
      "cell_type": "code",
      "execution_count": null,
      "id": "eZ5r8cFP8HG3",
      "metadata": {
        "id": "eZ5r8cFP8HG3"
      },
      "outputs": [],
      "source": [
        "degree = 9\n",
        "centroids = build_centroids(y, x)\n",
        "centroids = [b for a,b in centroids]\n",
        "x_extended, d = build_poly_interaction(x, degree, [], centroids)\n",
        "x_tr_split, x_te_split, y_tr_split, y_te_split = split_data(x_extended, y, 0.7)"
      ]
    },
    {
      "cell_type": "markdown",
      "id": "ReNBadgpTQnq",
      "metadata": {
        "id": "ReNBadgpTQnq"
      },
      "source": [
        "## Selecting a reference model\n"
      ]
    },
    {
      "cell_type": "code",
      "execution_count": null,
      "id": "tBRkgl5_8HG5",
      "metadata": {
        "colab": {
          "base_uri": "https://localhost:8080/"
        },
        "id": "tBRkgl5_8HG5",
        "outputId": "ca84a22d-dbfa-4531-cdaa-85ae2c54d92f"
      },
      "outputs": [
        {
          "data": {
            "text/plain": [
              "0.8294685714285714"
            ]
          },
          "execution_count": 61,
          "metadata": {},
          "output_type": "execute_result"
        }
      ],
      "source": [
        "# reference \n",
        "n_classifier = 10\n",
        "lambda_ = 0.01\n",
        "number_of_rows = 50000\n",
        "features_per_classifier = 41\n",
        "use_centroids = True\n",
        "cl = ClassifierRandomRidgeRegression(n_classifier, lambda_, number_of_rows, features_per_classifier, use_centroids)\n",
        "cl.train(y_tr_split, x_tr_split, d)\n",
        "preds = cl.predict(x_tr_split)\n",
        "cl.accuracy(preds, y_tr_split)\n"
      ]
    },
    {
      "cell_type": "markdown",
      "id": "RpeV8SajTU9p",
      "metadata": {
        "id": "RpeV8SajTU9p"
      },
      "source": [
        "\n",
        "We have a better accuracy than with ridge regression ! \n",
        "\n",
        "Let's try to find the best hyperparameters."
      ]
    },
    {
      "cell_type": "code",
      "execution_count": null,
      "id": "qeZ3t7Yu9crE",
      "metadata": {
        "colab": {
          "base_uri": "https://localhost:8080/"
        },
        "id": "qeZ3t7Yu9crE",
        "outputId": "289e9d1b-b4b2-44b0-f2a4-566ad148a19e"
      },
      "outputs": [
        {
          "data": {
            "text/plain": [
              "0.8261066666666667"
            ]
          },
          "execution_count": 62,
          "metadata": {},
          "output_type": "execute_result"
        }
      ],
      "source": [
        "# Using less features\n",
        "n_classifier = 10\n",
        "lambda_ = 0.01\n",
        "number_of_rows = 50000\n",
        "features_per_classifier = 32\n",
        "use_centroids = True\n",
        "cl = ClassifierRandomRidgeRegression(n_classifier, lambda_, number_of_rows, features_per_classifier, use_centroids)\n",
        "cl.train(y_tr_split, x_tr_split, d)\n",
        "preds = cl.predict(x_te_split)\n",
        "cl.accuracy(preds, y_te_split)"
      ]
    },
    {
      "cell_type": "markdown",
      "id": "j7gtcXUMTcjr",
      "metadata": {
        "id": "j7gtcXUMTcjr"
      },
      "source": [
        "It seems like decreasing the number of features doesn't improve the performances. Maybe it could increase the performances if we add a lot more classifiers but we faced memories issues while doing that."
      ]
    },
    {
      "cell_type": "code",
      "execution_count": null,
      "id": "txKxVvVE-4pU",
      "metadata": {
        "colab": {
          "base_uri": "https://localhost:8080/"
        },
        "id": "txKxVvVE-4pU",
        "outputId": "ace5a7df-63c3-4e1d-91a5-b73aa8951d18"
      },
      "outputs": [
        {
          "data": {
            "text/plain": [
              "0.8278266666666667"
            ]
          },
          "execution_count": 63,
          "metadata": {},
          "output_type": "execute_result"
        }
      ],
      "source": [
        "# Using less rows\n",
        "n_classifier = 10\n",
        "lambda_ = 0.01\n",
        "number_of_rows = 40000\n",
        "features_per_classifier = 41\n",
        "use_centroids = True\n",
        "cl = ClassifierRandomRidgeRegression(n_classifier, lambda_, number_of_rows, features_per_classifier, use_centroids)\n",
        "cl.train(y_tr_split, x_tr_split, d)\n",
        "preds = cl.predict(x_te_split)\n",
        "cl.accuracy(preds, y_te_split)\n"
      ]
    },
    {
      "cell_type": "markdown",
      "id": "GksDRIVZTsu3",
      "metadata": {
        "id": "GksDRIVZTsu3"
      },
      "source": [
        "The accuracy is still good but decreased a little bit."
      ]
    },
    {
      "cell_type": "code",
      "execution_count": null,
      "id": "zao4IRt792El",
      "metadata": {
        "colab": {
          "base_uri": "https://localhost:8080/"
        },
        "id": "zao4IRt792El",
        "outputId": "9b254ed5-718a-4f4c-9946-0ddfc92483e9"
      },
      "outputs": [
        {
          "data": {
            "text/plain": [
              "0.82696"
            ]
          },
          "execution_count": 64,
          "metadata": {},
          "output_type": "execute_result"
        }
      ],
      "source": [
        "# more rows\n",
        "n_classifier = 10\n",
        "lambda_ = 0.01\n",
        "number_of_rows = 60000\n",
        "features_per_classifier = 41\n",
        "use_centroids = True\n",
        "cl = ClassifierRandomRidgeRegression(n_classifier, lambda_, number_of_rows, features_per_classifier, use_centroids)\n",
        "cl.train(y_tr_split, x_tr_split, d)\n",
        "preds = cl.predict(x_te_split)\n",
        "cl.accuracy(preds, y_te_split)\n"
      ]
    },
    {
      "cell_type": "markdown",
      "id": "TDJaYsQIUZaO",
      "metadata": {
        "id": "TDJaYsQIUZaO"
      },
      "source": [
        "The accuracy is also decreasing. It looks like the optimal number of rows is close to 50000."
      ]
    },
    {
      "cell_type": "code",
      "execution_count": null,
      "id": "YGn66yRV-9HZ",
      "metadata": {
        "colab": {
          "base_uri": "https://localhost:8080/"
        },
        "id": "YGn66yRV-9HZ",
        "outputId": "6d188766-9189-4846-e623-fdd2c3b7afc3"
      },
      "outputs": [
        {
          "data": {
            "text/plain": [
              "0.82724"
            ]
          },
          "execution_count": 65,
          "metadata": {},
          "output_type": "execute_result"
        }
      ],
      "source": [
        "# higher lambda\n",
        "n_classifier = 10\n",
        "lambda_ = 0.5\n",
        "number_of_rows = 50000\n",
        "features_per_classifier = 41\n",
        "use_centroids = True\n",
        "cl = ClassifierRandomRidgeRegression(n_classifier, lambda_, number_of_rows, features_per_classifier, use_centroids)\n",
        "cl.train(y_tr_split, x_tr_split, d)\n",
        "preds = cl.predict(x_te_split)\n",
        "cl.accuracy(preds, y_te_split)"
      ]
    },
    {
      "cell_type": "markdown",
      "id": "ZH8zJloPUnsX",
      "metadata": {
        "id": "ZH8zJloPUnsX"
      },
      "source": [
        "Modifying the lambda parameter doesn't affect a lot the accuracy. Here, all of our classifiers share the same lambda. We could improve our model by using a different lambda for each parameter."
      ]
    },
    {
      "cell_type": "code",
      "execution_count": null,
      "id": "JhKwX7MT-0Uq",
      "metadata": {
        "colab": {
          "base_uri": "https://localhost:8080/"
        },
        "id": "JhKwX7MT-0Uq",
        "outputId": "c6adcaee-4230-467c-f49e-0f5846a517a1"
      },
      "outputs": [
        {
          "data": {
            "text/plain": [
              "0.8278533333333333"
            ]
          },
          "execution_count": 66,
          "metadata": {},
          "output_type": "execute_result"
        }
      ],
      "source": [
        "# More classifiers \n",
        "n_classifier = 12\n",
        "lambda_ = 0.01\n",
        "number_of_rows = 50000\n",
        "features_per_classifier = 41\n",
        "use_centroids = True\n",
        "cl = ClassifierRandomRidgeRegression(n_classifier, lambda_, number_of_rows, features_per_classifier, use_centroids)\n",
        "cl.train(y_tr_split, x_tr_split, d)\n",
        "preds = cl.predict(x_te_split)\n",
        "cl.accuracy(preds, y_te_split)"
      ]
    },
    {
      "cell_type": "markdown",
      "id": "zSSPNF5NU8vP",
      "metadata": {
        "id": "zSSPNF5NU8vP"
      },
      "source": [
        "More classifiers does not improve the accuracy. However, it also takes more time and memory to train and to generate predictions.\n",
        "\n",
        "Let's try with less classifiers in order to be sure that the number of classifier really impacts our predictions."
      ]
    },
    {
      "cell_type": "code",
      "execution_count": null,
      "id": "_PdUnhYL98bc",
      "metadata": {
        "colab": {
          "base_uri": "https://localhost:8080/"
        },
        "id": "_PdUnhYL98bc",
        "outputId": "ee5b00f5-3b4c-4765-9f58-ce91d5894db6"
      },
      "outputs": [
        {
          "data": {
            "text/plain": [
              "0.82712"
            ]
          },
          "execution_count": 67,
          "metadata": {},
          "output_type": "execute_result"
        }
      ],
      "source": [
        "# Less classifiers\n",
        "n_classifier = 8\n",
        "lambda_ = 0.01\n",
        "number_of_rows = 50000\n",
        "features_per_classifier = 41\n",
        "use_centroids = True\n",
        "cl = ClassifierRandomRidgeRegression(n_classifier, lambda_, number_of_rows, features_per_classifier, use_centroids)\n",
        "cl.train(y_tr_split, x_tr_split, d)\n",
        "preds = cl.predict(x_te_split)\n",
        "cl.accuracy(preds, y_te_split)"
      ]
    },
    {
      "cell_type": "markdown",
      "id": "PX-lRL-PVY42",
      "metadata": {
        "id": "PX-lRL-PVY42"
      },
      "source": [
        "With 8 classifiers, we had better predictions than with 10. Let's try with even less."
      ]
    },
    {
      "cell_type": "code",
      "execution_count": null,
      "id": "TSy35ZsjV0kV",
      "metadata": {
        "colab": {
          "base_uri": "https://localhost:8080/"
        },
        "id": "TSy35ZsjV0kV",
        "outputId": "90732c62-b8a9-4cf8-c2aa-156e0646576d"
      },
      "outputs": [
        {
          "data": {
            "text/plain": [
              "0.8272"
            ]
          },
          "execution_count": 68,
          "metadata": {},
          "output_type": "execute_result"
        }
      ],
      "source": [
        "# Less classifiers\n",
        "n_classifier = 6\n",
        "lambda_ = 0.01\n",
        "number_of_rows = 50000\n",
        "features_per_classifier = 41\n",
        "use_centroids = True\n",
        "cl = ClassifierRandomRidgeRegression(n_classifier, lambda_, number_of_rows, features_per_classifier, use_centroids)\n",
        "cl.train(y_tr_split, x_tr_split, d)\n",
        "preds = cl.predict(x_te_split)\n",
        "cl.accuracy(preds, y_te_split)"
      ]
    },
    {
      "cell_type": "markdown",
      "id": "WFsRXi_pVirm",
      "metadata": {
        "id": "WFsRXi_pVirm"
      },
      "source": [
        "The accuracy is decreasing a little bit and becomes closer to the accuracy of a single ridge regression classifier trained with all the data.\n",
        "\n",
        "Let's try to make a lot of bad classifiers and see how they combine."
      ]
    },
    {
      "cell_type": "code",
      "execution_count": null,
      "id": "G8e2c_GrAh9h",
      "metadata": {
        "colab": {
          "base_uri": "https://localhost:8080/"
        },
        "id": "G8e2c_GrAh9h",
        "outputId": "130d2bcb-cf22-4ec5-ddfd-69d95ffdeb3e"
      },
      "outputs": [
        {
          "data": {
            "text/plain": [
              "0.8051066666666666"
            ]
          },
          "execution_count": 69,
          "metadata": {},
          "output_type": "execute_result"
        }
      ],
      "source": [
        "# More classifier / Less features\n",
        "n_classifier = 50\n",
        "lambda_ = 0.01\n",
        "number_of_rows = 50000\n",
        "features_per_classifier = 10\n",
        "use_centroids = True\n",
        "cl = ClassifierRandomRidgeRegression(n_classifier, lambda_, number_of_rows, features_per_classifier, use_centroids)\n",
        "cl.train(y_tr_split, x_tr_split, d)\n",
        "preds = cl.predict(x_te_split)\n",
        "cl.accuracy(preds, y_te_split)"
      ]
    },
    {
      "cell_type": "code",
      "execution_count": null,
      "id": "BVwwPFT1dGLO",
      "metadata": {
        "colab": {
          "base_uri": "https://localhost:8080/"
        },
        "id": "BVwwPFT1dGLO",
        "outputId": "ebad4070-2f2c-4407-ee9b-6f47ef0d4bf3"
      },
      "outputs": [
        {
          "data": {
            "text/plain": [
              "array([53998, 21002])"
            ]
          },
          "execution_count": 70,
          "metadata": {},
          "output_type": "execute_result"
        }
      ],
      "source": [
        "val, counts = np.unique(preds, return_counts=True)\n",
        "counts"
      ]
    },
    {
      "cell_type": "markdown",
      "id": "rqXJ7lW-V32Y",
      "metadata": {
        "id": "rqXJ7lW-V32Y"
      },
      "source": [
        "The accuracy decreases significantly. It might not be a good idea to do this but it still gives decent results.\n"
      ]
    },
    {
      "cell_type": "markdown",
      "id": "b7MdUoSTWScu",
      "metadata": {
        "id": "b7MdUoSTWScu"
      },
      "source": [
        "# Ridge regression's performance"
      ]
    },
    {
      "cell_type": "markdown",
      "id": "XroNRZp-WYjp",
      "metadata": {
        "id": "XroNRZp-WYjp"
      },
      "source": [
        "We want to compare this classifier that uses a lot of ridge regression classifiers to a single ridge regression classifier."
      ]
    },
    {
      "cell_type": "code",
      "execution_count": null,
      "id": "i3xghQ2ThxoL",
      "metadata": {
        "colab": {
          "base_uri": "https://localhost:8080/"
        },
        "id": "i3xghQ2ThxoL",
        "outputId": "ad9051b1-2507-43f3-f91d-6c5d046bd8b4"
      },
      "outputs": [
        {
          "data": {
            "text/plain": [
              "[0.82636, 0.82644, 0.82652, 0.8265466666666667, 0.8266, 0.82668]"
            ]
          },
          "execution_count": 71,
          "metadata": {},
          "output_type": "execute_result"
        }
      ],
      "source": [
        "lambdas = [0.5, 0.1, 0.02, 0.01, 0.001, 0.0001]\n",
        "res = []\n",
        "for lambda_ in lambdas:\n",
        "  ridge = ClassifierLinearRegression(lambda_, \"L2\")\n",
        "  ridge.train(y_tr_split, x_tr_split)\n",
        "  preds2 = ridge.predict(x_te_split)\n",
        "  res.append(ridge.accuracy(preds2, y_te_split))\n",
        "res"
      ]
    },
    {
      "cell_type": "markdown",
      "id": "LDhJE0PpWrY3",
      "metadata": {
        "id": "LDhJE0PpWrY3"
      },
      "source": [
        "Changing the lambda doesn't affect the testing accuracy significantly."
      ]
    },
    {
      "cell_type": "markdown",
      "id": "A-URDleLW1If",
      "metadata": {
        "id": "A-URDleLW1If"
      },
      "source": [
        "# Finding the best degree"
      ]
    },
    {
      "cell_type": "markdown",
      "id": "kgN0fp3uW5Xz",
      "metadata": {
        "id": "kgN0fp3uW5Xz"
      },
      "source": [
        "We want to see the impact of the degree on our Random Ridge classifier. Let's start with a smaller degree."
      ]
    },
    {
      "cell_type": "code",
      "execution_count": null,
      "id": "iUNG8jntbS2W",
      "metadata": {
        "id": "iUNG8jntbS2W"
      },
      "outputs": [],
      "source": [
        "degree = 6\n",
        "centroids = build_centroids(y, x)\n",
        "centroids = [b for a,b in centroids]\n",
        "x_extended, d = build_poly_interaction(x, degree, [], centroids)\n",
        "x_tr_split, x_te_split, y_tr_split, y_te_split = split_data(x_extended, y, 0.7)"
      ]
    },
    {
      "cell_type": "code",
      "execution_count": null,
      "id": "hemlH9etbX65",
      "metadata": {
        "colab": {
          "base_uri": "https://localhost:8080/"
        },
        "id": "hemlH9etbX65",
        "outputId": "ab32578a-086d-4860-8c13-31e98549525a"
      },
      "outputs": [
        {
          "name": "stdout",
          "output_type": "stream",
          "text": [
            "[-1.  1.]\n"
          ]
        },
        {
          "data": {
            "text/plain": [
              "0.81656"
            ]
          },
          "execution_count": 73,
          "metadata": {},
          "output_type": "execute_result"
        }
      ],
      "source": [
        "# smaller degree\n",
        "n_classifier = 10\n",
        "lambda_ = 0.01\n",
        "number_of_rows = 50000\n",
        "features_per_classifier = 41\n",
        "use_centroids = True\n",
        "cl = ClassifierRandomRidgeRegression(n_classifier, lambda_, number_of_rows, features_per_classifier, use_centroids)\n",
        "cl.train(y_tr_split, x_tr_split, d)\n",
        "preds = cl.predict(x_te_split)\n",
        "print(np.unique(preds))\n",
        "cl.accuracy(preds, y_te_split)\n"
      ]
    },
    {
      "cell_type": "markdown",
      "id": "R_9kuEvUXNGR",
      "metadata": {
        "id": "R_9kuEvUXNGR"
      },
      "source": [
        "The accuracy is lower with a smaller degree. We should try with a higher one."
      ]
    },
    {
      "cell_type": "code",
      "execution_count": null,
      "id": "ti5_vxkDjVMg",
      "metadata": {
        "id": "ti5_vxkDjVMg"
      },
      "outputs": [],
      "source": [
        "degree = 10\n",
        "centroids = build_centroids(y, x)\n",
        "centroids = [b for a,b in centroids]\n",
        "x_extended, d = build_poly_interaction(x, degree, [], centroids)\n",
        "x_tr_split, x_te_split, y_tr_split, y_te_split = split_data(x_extended, y, 0.7)"
      ]
    },
    {
      "cell_type": "code",
      "execution_count": null,
      "id": "RnAYsRpIjmF5",
      "metadata": {
        "colab": {
          "base_uri": "https://localhost:8080/"
        },
        "id": "RnAYsRpIjmF5",
        "outputId": "e2a321dc-042d-4f3e-d3b0-e786f4ab54b6"
      },
      "outputs": [
        {
          "name": "stdout",
          "output_type": "stream",
          "text": [
            "[-1.  1.]\n"
          ]
        },
        {
          "data": {
            "text/plain": [
              "0.82796"
            ]
          },
          "execution_count": 75,
          "metadata": {},
          "output_type": "execute_result"
        }
      ],
      "source": [
        "# higher degree\n",
        "n_classifier = 10\n",
        "lambda_ = 0.01\n",
        "number_of_rows = 50000\n",
        "features_per_classifier = 41\n",
        "use_centroids = True\n",
        "cl = ClassifierRandomRidgeRegression(n_classifier, lambda_, number_of_rows, features_per_classifier, use_centroids)\n",
        "cl.train(y_tr_split, x_tr_split, d)\n",
        "preds = cl.predict(x_te_split)\n",
        "print(np.unique(preds))\n",
        "cl.accuracy(preds, y_te_split)"
      ]
    },
    {
      "cell_type": "markdown",
      "id": "OjHwh0N5XnJ0",
      "metadata": {
        "id": "OjHwh0N5XnJ0"
      },
      "source": [
        "Here the degree is a little bit higher but the accuracy is decreasing. There is no point in increasing the degree past 9.\n",
        "\n"
      ]
    }
  ],
  "metadata": {
    "colab": {
      "collapsed_sections": [],
      "name": "Predicting.ipynb",
      "provenance": []
    },
    "interpreter": {
      "hash": "b3ba2566441a7c06988d0923437866b63cedc61552a5af99d1f4fb67d367b25f"
    },
    "kernelspec": {
      "display_name": "Python 3.8.8 64-bit ('base': conda)",
      "name": "python3"
    },
    "language_info": {
      "codemirror_mode": {
        "name": "ipython",
        "version": 3
      },
      "file_extension": ".py",
      "mimetype": "text/x-python",
      "name": "python",
      "nbconvert_exporter": "python",
      "pygments_lexer": "ipython3",
      "version": "3.8.8"
    }
  },
  "nbformat": 4,
  "nbformat_minor": 5
}
