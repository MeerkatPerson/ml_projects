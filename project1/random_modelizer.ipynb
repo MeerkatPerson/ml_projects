{
 "cells": [
  {
   "cell_type": "markdown",
   "id": "bc6fd8f9",
   "metadata": {},
   "source": [
    "# Trying Fabrizio's cool random model race 💥"
   ]
  },
  {
   "cell_type": "markdown",
   "id": "444e2e9c",
   "metadata": {},
   "source": [
    "### (1) Load data, trying the function they gave us in the template"
   ]
  },
  {
   "cell_type": "code",
   "execution_count": 1,
   "id": "5da01cd3",
   "metadata": {},
   "outputs": [],
   "source": [
    "# Useful starting lines\n",
    "%matplotlib inline\n",
    "import numpy as np\n",
    "import matplotlib.pyplot as plt\n",
    "%load_ext autoreload\n",
    "%autoreload 2"
   ]
  },
  {
   "cell_type": "code",
   "execution_count": 3,
   "id": "5592c59e",
   "metadata": {},
   "outputs": [],
   "source": [
    "import sys\n",
    "sys.path.insert(0, './scripts')\n",
    "\n",
    "from proj1_helpers import *"
   ]
  },
  {
   "cell_type": "code",
   "execution_count": 4,
   "id": "301f457b",
   "metadata": {},
   "outputs": [],
   "source": [
    "y_train, tx_train, ids_train = load_csv_data('./data/train.csv')"
   ]
  },
  {
   "cell_type": "code",
   "execution_count": 57,
   "id": "ce878d6f",
   "metadata": {},
   "outputs": [
    {
     "name": "stdout",
     "output_type": "stream",
     "text": [
      "[[ 138.47    51.655   97.827 ...    1.24    -2.475  113.497]\n",
      " [ 160.937   68.768  103.235 ... -999.    -999.      46.226]\n",
      " [-999.     162.172  125.953 ... -999.    -999.      44.251]\n",
      " ...\n",
      " [ 105.457   60.526   75.839 ... -999.    -999.      41.992]\n",
      " [  94.951   19.362   68.812 ... -999.    -999.       0.   ]\n",
      " [-999.      72.756   70.831 ... -999.    -999.       0.   ]]\n"
     ]
    }
   ],
   "source": [
    "print(tx_train)"
   ]
  },
  {
   "cell_type": "code",
   "execution_count": 77,
   "id": "ba9a7f68",
   "metadata": {},
   "outputs": [
    {
     "data": {
      "text/plain": [
       "(250000, 30)"
      ]
     },
     "execution_count": 77,
     "metadata": {},
     "output_type": "execute_result"
    }
   ],
   "source": [
    "np.shape(tx_train)"
   ]
  },
  {
   "cell_type": "code",
   "execution_count": 68,
   "id": "73d8ddd0",
   "metadata": {},
   "outputs": [
    {
     "name": "stdout",
     "output_type": "stream",
     "text": [
      "[ 1. -1. -1. ...  1. -1. -1.]\n"
     ]
    }
   ],
   "source": [
    "print(y_train)"
   ]
  },
  {
   "cell_type": "code",
   "execution_count": 67,
   "id": "2cb9d098",
   "metadata": {},
   "outputs": [],
   "source": [
    "y_test, tx_test, ids_test = load_csv_data('./data/test.csv')"
   ]
  },
  {
   "cell_type": "markdown",
   "id": "2fbb6362",
   "metadata": {},
   "source": [
    "### (2) Get rid of features that have too many NAN-values."
   ]
  },
  {
   "cell_type": "markdown",
   "id": "00e72037",
   "metadata": {},
   "source": [
    "Damn, that sucks .... a data set in numpy array form obvsly doesn't contain column-labels!\n",
    "\n",
    "Get the column indices of the columns we want to get rid of because they contain too many NAs using pandas."
   ]
  },
  {
   "cell_type": "code",
   "execution_count": 81,
   "id": "c7a251bb",
   "metadata": {},
   "outputs": [],
   "source": [
    "import pandas as pd\n",
    "\n",
    "data = pd.read_csv('./data/train.csv.zip')\n",
    "\n",
    "cols_to_remove = []\n",
    "\n",
    "for i, col in enumerate(data.columns):\n",
    "    \n",
    "    if 'leading' in col or 'DER' in col: \n",
    "        \n",
    "        cols_to_remove.append(i-2) # -2 because when using the 'load_csv_data'-function, 'id' and 'prediction'\n",
    "                                   # are not in tx (the function returns tx, y and ids separately)"
   ]
  },
  {
   "cell_type": "code",
   "execution_count": 79,
   "id": "34a8d74c",
   "metadata": {},
   "outputs": [
    {
     "name": "stdout",
     "output_type": "stream",
     "text": [
      "[0, 1, 2, 3, 4, 5, 6, 7, 8, 9, 10, 11, 12, 23, 24, 25, 26, 27, 28]\n"
     ]
    }
   ],
   "source": [
    "print(cols_to_remove)"
   ]
  },
  {
   "cell_type": "code",
   "execution_count": 82,
   "id": "5421689e",
   "metadata": {},
   "outputs": [],
   "source": [
    "tx_train = np.delete(tx_train, cols_to_remove, 1)  "
   ]
  },
  {
   "cell_type": "code",
   "execution_count": 85,
   "id": "02086783",
   "metadata": {},
   "outputs": [],
   "source": [
    "tx_test = np.delete(tx_test, cols_to_remove, 1) "
   ]
  },
  {
   "cell_type": "code",
   "execution_count": 86,
   "id": "c0e87ee2",
   "metadata": {},
   "outputs": [
    {
     "data": {
      "text/plain": [
       "(250000, 11)"
      ]
     },
     "execution_count": 86,
     "metadata": {},
     "output_type": "execute_result"
    }
   ],
   "source": [
    "np.shape(tx_train)"
   ]
  },
  {
   "cell_type": "code",
   "execution_count": 87,
   "id": "af9bebe8",
   "metadata": {},
   "outputs": [
    {
     "data": {
      "text/plain": [
       "(568238, 11)"
      ]
     },
     "execution_count": 87,
     "metadata": {},
     "output_type": "execute_result"
    }
   ],
   "source": [
    "np.shape(tx_test)"
   ]
  },
  {
   "cell_type": "markdown",
   "id": "63f59ed4",
   "metadata": {},
   "source": [
    "Nice, only the 11 columns without excessive amounts of NAN-values remain."
   ]
  },
  {
   "cell_type": "markdown",
   "id": "d2a23a2d",
   "metadata": {},
   "source": [
    "### (3) TODO: replace NANs with median/mean, same with outliers that are outside 3 times interquartile range"
   ]
  },
  {
   "cell_type": "markdown",
   "id": "5e9cd849",
   "metadata": {},
   "source": [
    ".... coming up ...."
   ]
  },
  {
   "cell_type": "markdown",
   "id": "5dc76d68",
   "metadata": {},
   "source": [
    "### (4) Determine monomials and build a dictionary with instructions for building them."
   ]
  },
  {
   "cell_type": "code",
   "execution_count": 16,
   "id": "cb36d800",
   "metadata": {},
   "outputs": [],
   "source": [
    "def number_monomials(n_variables, degree):\n",
    "    \n",
    "    '''Computes the number of terms of order 'degree' that can be built from 'n_variables' '''\n",
    "    \n",
    "    a = np.math.factorial(n_variables + degree - 1)\n",
    "    b = np.math.factorial(degree)\n",
    "    c = np.math.factorial(n_variables - 1)\n",
    "    \n",
    "    return a/(b*c)"
   ]
  },
  {
   "cell_type": "code",
   "execution_count": 64,
   "id": "de75b36c",
   "metadata": {},
   "outputs": [
    {
     "name": "stdout",
     "output_type": "stream",
     "text": [
      "There are 11.0 monomials of order 1.\n",
      "There are 66.0 monomials of order 2.\n",
      "There are 286.0 monomials of order 3.\n",
      "Hence, a feature matrix containing all these monomials would have 363 columns.\n"
     ]
    }
   ],
   "source": [
    "print(f'There are {number_monomials(11,1)} monomials of order 1.')\n",
    "print(f'There are {number_monomials(11,2)} monomials of order 2.')\n",
    "print(f'There are {number_monomials(11,3)} monomials of order 3.')\n",
    "\n",
    "print(f'Hence, a feature matrix containing all these monomials would have {11+66+286} columns.')"
   ]
  },
  {
   "cell_type": "markdown",
   "id": "103cfa43",
   "metadata": {},
   "source": [
    "At least when using pandas, such a data set doesn't fit in memory. Instead, set up a dictionary that contains instructions for building each of these columns.\n",
    "Then, when randomly selecting from these 363 columns the respective column can be built on the fly using the instructions.\n",
    "\n",
    "E.g., if dict[k] = [(2,2),(7,1)], then that means 'column 2 of the original data set raised to the power of 2 times colum 7 of the original data set raised to the power of 1'."
   ]
  },
  {
   "cell_type": "code",
   "execution_count": 6,
   "id": "6c678da5",
   "metadata": {},
   "outputs": [
    {
     "data": {
      "text/plain": [
       "'\\n   D-E-G   =   O-N-E   |    D-E-G   =   T-W-O                  | D-E-G  =  T-H-R-E-E\\n 0  |  1  | ... |  10  |  11   |  12  | ...           |   76   |\\n--------------------------------------------------------------- ---------------------\\nx_1 | x_2 | ... | x_11 | x_1^2 | ...  | x_1*x_2 | ... | x_11^2 | .....\\n\\n\\n- 11 columns of order 1 terms\\n- 55 + 11 columns of order 2 terms (binomial(11,2) + 11 (for x_1^2, x_2^2 and so on)) = 66\\n- for order three: 165 (binomial(11,3) + 11 (for x_1^3, x_2^3, ...) + 110 (for (x_1^2)*x_2, (x_2^2)*x_1), etc) = 286\\n\\n'"
      ]
     },
     "execution_count": 6,
     "metadata": {},
     "output_type": "execute_result"
    }
   ],
   "source": [
    "'''\n",
    "   D-E-G   =   O-N-E   |    D-E-G   =   T-W-O                  | D-E-G  =  T-H-R-E-E\n",
    " 0  |  1  | ... |  10  |  11   |  12  | ...           |   76   |\n",
    "--------------------------------------------------------------- ---------------------\n",
    "x_1 | x_2 | ... | x_11 | x_1^2 | ...  | x_1*x_2 | ... | x_11^2 | .....\n",
    "\n",
    "\n",
    "- 11 columns of order 1 terms\n",
    "- 55 + 11 columns of order 2 terms (binomial(11,2) + 11 (for x_1^2, x_2^2 and so on)) = 66\n",
    "- for order three: 165 (binomial(11,3) + 11 (for x_1^3, x_2^3, ...) + 110 (for (x_1^2)*x_2, (x_2^2)*x_1), etc) = 286\n",
    "\n",
    "'''"
   ]
  },
  {
   "cell_type": "code",
   "execution_count": 66,
   "id": "ed72cfad",
   "metadata": {},
   "outputs": [],
   "source": [
    "# creating a dictionary for storing the information about columns so they can be generated on the fly\n",
    "# I KNOW IT'S SUPER MESSY!!!! BUT AS DONALD KNUTH SAID: 'PREMATURE OPTIMIZATION IS THE ROOT OF ALL EVIL', SO LET'S\n",
    "# CHECK IF THIS APPROACH IS FRUITFUL AT ALL AND THEN IF IT IS OPTIMIZE LATER ;)\n",
    "\n",
    "cols = {}\n",
    "\n",
    "# ------------------------------------------------------------------------------------------------------------------\n",
    "# DEG = 1\n",
    "\n",
    "# add terms of deg 1\n",
    "\n",
    "for i in range(11):\n",
    "    \n",
    "    cols[i] = [(i,1)]\n",
    "    \n",
    "# ------------------------------------------------------------------------------------------------------------------\n",
    "    \n",
    "# DEG = 2    \n",
    "    \n",
    "# add terms of deg 2 of the form x_1^2, x_2^2 ...\n",
    "    \n",
    "for j in range(11, 22):\n",
    "    \n",
    "    cols[j] = [(j-11,2)]\n",
    "    \n",
    "# now comes the fun part: add terms of deg 2 of the form x_1*x_2, x_1*x_2 ...\n",
    "\n",
    "k = 0\n",
    "\n",
    "for j in range (11):\n",
    "\n",
    "    for l in range (j+1, 11):\n",
    "    \n",
    "        cols[22+k] = [(j,1),(l,1)]\n",
    "        \n",
    "        k += 1      \n",
    "        \n",
    "# ------------------------------------------------------------------------------------------------------------------\n",
    "        \n",
    "# DEG = 3\n",
    "    \n",
    "# add terms of deg 3 of the form x_1^3, x_2^3 ...\n",
    "    \n",
    "for m in range(77, 77+11):\n",
    "    \n",
    "    cols[m] = [(m-77,3)]\n",
    "    \n",
    "# add terms of deg 3 of the form x_1^2*x_2, x_1^2*x_3 ...    \n",
    "    \n",
    "q = 0\n",
    "    \n",
    "for n in range(11):\n",
    "    \n",
    "    for r in range(11):\n",
    "        \n",
    "        if n != r:\n",
    "            \n",
    "            cols[88+q] = cols[11+n] + cols[r]\n",
    "            \n",
    "            q += 1\n",
    "            \n",
    "# finally, add terms of deg 3 of the form x_1*x_2*x_3 ...\n",
    "\n",
    "s = 198\n",
    "\n",
    "for n in range(11):\n",
    "    \n",
    "    for r in range(n+1, 11):\n",
    "        \n",
    "        for u in range (r+1, 11):\n",
    "            \n",
    "            cols[s] = [(n,1),(r,1),(u,1)]\n",
    "            \n",
    "            s += 1"
   ]
  },
  {
   "cell_type": "code",
   "execution_count": 56,
   "id": "1ec6be99",
   "metadata": {},
   "outputs": [
    {
     "name": "stdout",
     "output_type": "stream",
     "text": [
      "0  :  [(0, 1)]\n",
      "1  :  [(1, 1)]\n",
      "2  :  [(2, 1)]\n",
      "3  :  [(3, 1)]\n",
      "4  :  [(4, 1)]\n",
      "5  :  [(5, 1)]\n",
      "6  :  [(6, 1)]\n",
      "7  :  [(7, 1)]\n",
      "8  :  [(8, 1)]\n",
      "9  :  [(9, 1)]\n",
      "10  :  [(10, 1)]\n",
      "11  :  [(0, 2)]\n",
      "12  :  [(1, 2)]\n",
      "13  :  [(2, 2)]\n",
      "14  :  [(3, 2)]\n",
      "15  :  [(4, 2)]\n",
      "16  :  [(5, 2)]\n",
      "17  :  [(6, 2)]\n",
      "18  :  [(7, 2)]\n",
      "19  :  [(8, 2)]\n",
      "20  :  [(9, 2)]\n",
      "21  :  [(10, 2)]\n",
      "22  :  [(0, 1), (1, 1)]\n",
      "23  :  [(0, 1), (2, 1)]\n",
      "24  :  [(0, 1), (3, 1)]\n",
      "25  :  [(0, 1), (4, 1)]\n",
      "26  :  [(0, 1), (5, 1)]\n",
      "27  :  [(0, 1), (6, 1)]\n",
      "28  :  [(0, 1), (7, 1)]\n",
      "29  :  [(0, 1), (8, 1)]\n",
      "30  :  [(0, 1), (9, 1)]\n",
      "31  :  [(0, 1), (10, 1)]\n",
      "32  :  [(1, 1), (2, 1)]\n",
      "33  :  [(1, 1), (3, 1)]\n",
      "34  :  [(1, 1), (4, 1)]\n",
      "35  :  [(1, 1), (5, 1)]\n",
      "36  :  [(1, 1), (6, 1)]\n",
      "37  :  [(1, 1), (7, 1)]\n",
      "38  :  [(1, 1), (8, 1)]\n",
      "39  :  [(1, 1), (9, 1)]\n",
      "40  :  [(1, 1), (10, 1)]\n",
      "41  :  [(2, 1), (3, 1)]\n",
      "42  :  [(2, 1), (4, 1)]\n",
      "43  :  [(2, 1), (5, 1)]\n",
      "44  :  [(2, 1), (6, 1)]\n",
      "45  :  [(2, 1), (7, 1)]\n",
      "46  :  [(2, 1), (8, 1)]\n",
      "47  :  [(2, 1), (9, 1)]\n",
      "48  :  [(2, 1), (10, 1)]\n",
      "49  :  [(3, 1), (4, 1)]\n",
      "50  :  [(3, 1), (5, 1)]\n",
      "51  :  [(3, 1), (6, 1)]\n",
      "52  :  [(3, 1), (7, 1)]\n",
      "53  :  [(3, 1), (8, 1)]\n",
      "54  :  [(3, 1), (9, 1)]\n",
      "55  :  [(3, 1), (10, 1)]\n",
      "56  :  [(4, 1), (5, 1)]\n",
      "57  :  [(4, 1), (6, 1)]\n",
      "58  :  [(4, 1), (7, 1)]\n",
      "59  :  [(4, 1), (8, 1)]\n",
      "60  :  [(4, 1), (9, 1)]\n",
      "61  :  [(4, 1), (10, 1)]\n",
      "62  :  [(5, 1), (6, 1)]\n",
      "63  :  [(5, 1), (7, 1)]\n",
      "64  :  [(5, 1), (8, 1)]\n",
      "65  :  [(5, 1), (9, 1)]\n",
      "66  :  [(5, 1), (10, 1)]\n",
      "67  :  [(6, 1), (7, 1)]\n",
      "68  :  [(6, 1), (8, 1)]\n",
      "69  :  [(6, 1), (9, 1)]\n",
      "70  :  [(6, 1), (10, 1)]\n",
      "71  :  [(7, 1), (8, 1)]\n",
      "72  :  [(7, 1), (9, 1)]\n",
      "73  :  [(7, 1), (10, 1)]\n",
      "74  :  [(8, 1), (9, 1)]\n",
      "75  :  [(8, 1), (10, 1)]\n",
      "76  :  [(9, 1), (10, 1)]\n",
      "77  :  [(0, 3)]\n",
      "78  :  [(1, 3)]\n",
      "79  :  [(2, 3)]\n",
      "80  :  [(3, 3)]\n",
      "81  :  [(4, 3)]\n",
      "82  :  [(5, 3)]\n",
      "83  :  [(6, 3)]\n",
      "84  :  [(7, 3)]\n",
      "85  :  [(8, 3)]\n",
      "86  :  [(9, 3)]\n",
      "87  :  [(10, 3)]\n",
      "88  :  [(0, 2), (1, 1)]\n",
      "89  :  [(0, 2), (2, 1)]\n",
      "90  :  [(0, 2), (3, 1)]\n",
      "91  :  [(0, 2), (4, 1)]\n",
      "92  :  [(0, 2), (5, 1)]\n",
      "93  :  [(0, 2), (6, 1)]\n",
      "94  :  [(0, 2), (7, 1)]\n",
      "95  :  [(0, 2), (8, 1)]\n",
      "96  :  [(0, 2), (9, 1)]\n",
      "97  :  [(0, 2), (10, 1)]\n",
      "98  :  [(1, 2), (0, 1)]\n",
      "99  :  [(1, 2), (2, 1)]\n",
      "100  :  [(1, 2), (3, 1)]\n",
      "101  :  [(1, 2), (4, 1)]\n",
      "102  :  [(1, 2), (5, 1)]\n",
      "103  :  [(1, 2), (6, 1)]\n",
      "104  :  [(1, 2), (7, 1)]\n",
      "105  :  [(1, 2), (8, 1)]\n",
      "106  :  [(1, 2), (9, 1)]\n",
      "107  :  [(1, 2), (10, 1)]\n",
      "108  :  [(2, 2), (0, 1)]\n",
      "109  :  [(2, 2), (1, 1)]\n",
      "110  :  [(2, 2), (3, 1)]\n",
      "111  :  [(2, 2), (4, 1)]\n",
      "112  :  [(2, 2), (5, 1)]\n",
      "113  :  [(2, 2), (6, 1)]\n",
      "114  :  [(2, 2), (7, 1)]\n",
      "115  :  [(2, 2), (8, 1)]\n",
      "116  :  [(2, 2), (9, 1)]\n",
      "117  :  [(2, 2), (10, 1)]\n",
      "118  :  [(3, 2), (0, 1)]\n",
      "119  :  [(3, 2), (1, 1)]\n",
      "120  :  [(3, 2), (2, 1)]\n",
      "121  :  [(3, 2), (4, 1)]\n",
      "122  :  [(3, 2), (5, 1)]\n",
      "123  :  [(3, 2), (6, 1)]\n",
      "124  :  [(3, 2), (7, 1)]\n",
      "125  :  [(3, 2), (8, 1)]\n",
      "126  :  [(3, 2), (9, 1)]\n",
      "127  :  [(3, 2), (10, 1)]\n",
      "128  :  [(4, 2), (0, 1)]\n",
      "129  :  [(4, 2), (1, 1)]\n",
      "130  :  [(4, 2), (2, 1)]\n",
      "131  :  [(4, 2), (3, 1)]\n",
      "132  :  [(4, 2), (5, 1)]\n",
      "133  :  [(4, 2), (6, 1)]\n",
      "134  :  [(4, 2), (7, 1)]\n",
      "135  :  [(4, 2), (8, 1)]\n",
      "136  :  [(4, 2), (9, 1)]\n",
      "137  :  [(4, 2), (10, 1)]\n",
      "138  :  [(5, 2), (0, 1)]\n",
      "139  :  [(5, 2), (1, 1)]\n",
      "140  :  [(5, 2), (2, 1)]\n",
      "141  :  [(5, 2), (3, 1)]\n",
      "142  :  [(5, 2), (4, 1)]\n",
      "143  :  [(5, 2), (6, 1)]\n",
      "144  :  [(5, 2), (7, 1)]\n",
      "145  :  [(5, 2), (8, 1)]\n",
      "146  :  [(5, 2), (9, 1)]\n",
      "147  :  [(5, 2), (10, 1)]\n",
      "148  :  [(6, 2), (0, 1)]\n",
      "149  :  [(6, 2), (1, 1)]\n",
      "150  :  [(6, 2), (2, 1)]\n",
      "151  :  [(6, 2), (3, 1)]\n",
      "152  :  [(6, 2), (4, 1)]\n",
      "153  :  [(6, 2), (5, 1)]\n",
      "154  :  [(6, 2), (7, 1)]\n",
      "155  :  [(6, 2), (8, 1)]\n",
      "156  :  [(6, 2), (9, 1)]\n",
      "157  :  [(6, 2), (10, 1)]\n",
      "158  :  [(7, 2), (0, 1)]\n",
      "159  :  [(7, 2), (1, 1)]\n",
      "160  :  [(7, 2), (2, 1)]\n",
      "161  :  [(7, 2), (3, 1)]\n",
      "162  :  [(7, 2), (4, 1)]\n",
      "163  :  [(7, 2), (5, 1)]\n",
      "164  :  [(7, 2), (6, 1)]\n",
      "165  :  [(7, 2), (8, 1)]\n",
      "166  :  [(7, 2), (9, 1)]\n",
      "167  :  [(7, 2), (10, 1)]\n",
      "168  :  [(8, 2), (0, 1)]\n",
      "169  :  [(8, 2), (1, 1)]\n",
      "170  :  [(8, 2), (2, 1)]\n",
      "171  :  [(8, 2), (3, 1)]\n",
      "172  :  [(8, 2), (4, 1)]\n",
      "173  :  [(8, 2), (5, 1)]\n",
      "174  :  [(8, 2), (6, 1)]\n",
      "175  :  [(8, 2), (7, 1)]\n",
      "176  :  [(8, 2), (9, 1)]\n",
      "177  :  [(8, 2), (10, 1)]\n",
      "178  :  [(9, 2), (0, 1)]\n",
      "179  :  [(9, 2), (1, 1)]\n",
      "180  :  [(9, 2), (2, 1)]\n",
      "181  :  [(9, 2), (3, 1)]\n",
      "182  :  [(9, 2), (4, 1)]\n",
      "183  :  [(9, 2), (5, 1)]\n",
      "184  :  [(9, 2), (6, 1)]\n",
      "185  :  [(9, 2), (7, 1)]\n",
      "186  :  [(9, 2), (8, 1)]\n",
      "187  :  [(9, 2), (10, 1)]\n",
      "188  :  [(10, 2), (0, 1)]\n",
      "189  :  [(10, 2), (1, 1)]\n",
      "190  :  [(10, 2), (2, 1)]\n",
      "191  :  [(10, 2), (3, 1)]\n",
      "192  :  [(10, 2), (4, 1)]\n",
      "193  :  [(10, 2), (5, 1)]\n",
      "194  :  [(10, 2), (6, 1)]\n",
      "195  :  [(10, 2), (7, 1)]\n",
      "196  :  [(10, 2), (8, 1)]\n",
      "197  :  [(10, 2), (9, 1)]\n",
      "198  :  [(0, 1), (1, 1), (2, 1)]\n",
      "199  :  [(0, 1), (1, 1), (3, 1)]\n",
      "200  :  [(0, 1), (1, 1), (4, 1)]\n",
      "201  :  [(0, 1), (1, 1), (5, 1)]\n",
      "202  :  [(0, 1), (1, 1), (6, 1)]\n",
      "203  :  [(0, 1), (1, 1), (7, 1)]\n",
      "204  :  [(0, 1), (1, 1), (8, 1)]\n",
      "205  :  [(0, 1), (1, 1), (9, 1)]\n",
      "206  :  [(0, 1), (1, 1), (10, 1)]\n",
      "207  :  [(0, 1), (2, 1), (3, 1)]\n",
      "208  :  [(0, 1), (2, 1), (4, 1)]\n",
      "209  :  [(0, 1), (2, 1), (5, 1)]\n",
      "210  :  [(0, 1), (2, 1), (6, 1)]\n",
      "211  :  [(0, 1), (2, 1), (7, 1)]\n",
      "212  :  [(0, 1), (2, 1), (8, 1)]\n",
      "213  :  [(0, 1), (2, 1), (9, 1)]\n",
      "214  :  [(0, 1), (2, 1), (10, 1)]\n",
      "215  :  [(0, 1), (3, 1), (4, 1)]\n",
      "216  :  [(0, 1), (3, 1), (5, 1)]\n",
      "217  :  [(0, 1), (3, 1), (6, 1)]\n",
      "218  :  [(0, 1), (3, 1), (7, 1)]\n",
      "219  :  [(0, 1), (3, 1), (8, 1)]\n",
      "220  :  [(0, 1), (3, 1), (9, 1)]\n",
      "221  :  [(0, 1), (3, 1), (10, 1)]\n",
      "222  :  [(0, 1), (4, 1), (5, 1)]\n",
      "223  :  [(0, 1), (4, 1), (6, 1)]\n",
      "224  :  [(0, 1), (4, 1), (7, 1)]\n",
      "225  :  [(0, 1), (4, 1), (8, 1)]\n",
      "226  :  [(0, 1), (4, 1), (9, 1)]\n",
      "227  :  [(0, 1), (4, 1), (10, 1)]\n",
      "228  :  [(0, 1), (5, 1), (6, 1)]\n",
      "229  :  [(0, 1), (5, 1), (7, 1)]\n",
      "230  :  [(0, 1), (5, 1), (8, 1)]\n",
      "231  :  [(0, 1), (5, 1), (9, 1)]\n",
      "232  :  [(0, 1), (5, 1), (10, 1)]\n",
      "233  :  [(0, 1), (6, 1), (7, 1)]\n",
      "234  :  [(0, 1), (6, 1), (8, 1)]\n",
      "235  :  [(0, 1), (6, 1), (9, 1)]\n",
      "236  :  [(0, 1), (6, 1), (10, 1)]\n",
      "237  :  [(0, 1), (7, 1), (8, 1)]\n",
      "238  :  [(0, 1), (7, 1), (9, 1)]\n",
      "239  :  [(0, 1), (7, 1), (10, 1)]\n",
      "240  :  [(0, 1), (8, 1), (9, 1)]\n",
      "241  :  [(0, 1), (8, 1), (10, 1)]\n",
      "242  :  [(0, 1), (9, 1), (10, 1)]\n",
      "243  :  [(1, 1), (2, 1), (3, 1)]\n",
      "244  :  [(1, 1), (2, 1), (4, 1)]\n",
      "245  :  [(1, 1), (2, 1), (5, 1)]\n",
      "246  :  [(1, 1), (2, 1), (6, 1)]\n",
      "247  :  [(1, 1), (2, 1), (7, 1)]\n",
      "248  :  [(1, 1), (2, 1), (8, 1)]\n",
      "249  :  [(1, 1), (2, 1), (9, 1)]\n",
      "250  :  [(1, 1), (2, 1), (10, 1)]\n",
      "251  :  [(1, 1), (3, 1), (4, 1)]\n",
      "252  :  [(1, 1), (3, 1), (5, 1)]\n",
      "253  :  [(1, 1), (3, 1), (6, 1)]\n",
      "254  :  [(1, 1), (3, 1), (7, 1)]\n",
      "255  :  [(1, 1), (3, 1), (8, 1)]\n",
      "256  :  [(1, 1), (3, 1), (9, 1)]\n",
      "257  :  [(1, 1), (3, 1), (10, 1)]\n",
      "258  :  [(1, 1), (4, 1), (5, 1)]\n",
      "259  :  [(1, 1), (4, 1), (6, 1)]\n",
      "260  :  [(1, 1), (4, 1), (7, 1)]\n",
      "261  :  [(1, 1), (4, 1), (8, 1)]\n",
      "262  :  [(1, 1), (4, 1), (9, 1)]\n",
      "263  :  [(1, 1), (4, 1), (10, 1)]\n",
      "264  :  [(1, 1), (5, 1), (6, 1)]\n",
      "265  :  [(1, 1), (5, 1), (7, 1)]\n",
      "266  :  [(1, 1), (5, 1), (8, 1)]\n",
      "267  :  [(1, 1), (5, 1), (9, 1)]\n",
      "268  :  [(1, 1), (5, 1), (10, 1)]\n",
      "269  :  [(1, 1), (6, 1), (7, 1)]\n",
      "270  :  [(1, 1), (6, 1), (8, 1)]\n",
      "271  :  [(1, 1), (6, 1), (9, 1)]\n",
      "272  :  [(1, 1), (6, 1), (10, 1)]\n",
      "273  :  [(1, 1), (7, 1), (8, 1)]\n",
      "274  :  [(1, 1), (7, 1), (9, 1)]\n",
      "275  :  [(1, 1), (7, 1), (10, 1)]\n",
      "276  :  [(1, 1), (8, 1), (9, 1)]\n",
      "277  :  [(1, 1), (8, 1), (10, 1)]\n",
      "278  :  [(1, 1), (9, 1), (10, 1)]\n",
      "279  :  [(2, 1), (3, 1), (4, 1)]\n",
      "280  :  [(2, 1), (3, 1), (5, 1)]\n",
      "281  :  [(2, 1), (3, 1), (6, 1)]\n",
      "282  :  [(2, 1), (3, 1), (7, 1)]\n",
      "283  :  [(2, 1), (3, 1), (8, 1)]\n",
      "284  :  [(2, 1), (3, 1), (9, 1)]\n",
      "285  :  [(2, 1), (3, 1), (10, 1)]\n",
      "286  :  [(2, 1), (4, 1), (5, 1)]\n",
      "287  :  [(2, 1), (4, 1), (6, 1)]\n",
      "288  :  [(2, 1), (4, 1), (7, 1)]\n",
      "289  :  [(2, 1), (4, 1), (8, 1)]\n",
      "290  :  [(2, 1), (4, 1), (9, 1)]\n",
      "291  :  [(2, 1), (4, 1), (10, 1)]\n",
      "292  :  [(2, 1), (5, 1), (6, 1)]\n",
      "293  :  [(2, 1), (5, 1), (7, 1)]\n",
      "294  :  [(2, 1), (5, 1), (8, 1)]\n",
      "295  :  [(2, 1), (5, 1), (9, 1)]\n",
      "296  :  [(2, 1), (5, 1), (10, 1)]\n",
      "297  :  [(2, 1), (6, 1), (7, 1)]\n",
      "298  :  [(2, 1), (6, 1), (8, 1)]\n",
      "299  :  [(2, 1), (6, 1), (9, 1)]\n",
      "300  :  [(2, 1), (6, 1), (10, 1)]\n",
      "301  :  [(2, 1), (7, 1), (8, 1)]\n",
      "302  :  [(2, 1), (7, 1), (9, 1)]\n",
      "303  :  [(2, 1), (7, 1), (10, 1)]\n",
      "304  :  [(2, 1), (8, 1), (9, 1)]\n",
      "305  :  [(2, 1), (8, 1), (10, 1)]\n",
      "306  :  [(2, 1), (9, 1), (10, 1)]\n",
      "307  :  [(3, 1), (4, 1), (5, 1)]\n",
      "308  :  [(3, 1), (4, 1), (6, 1)]\n",
      "309  :  [(3, 1), (4, 1), (7, 1)]\n",
      "310  :  [(3, 1), (4, 1), (8, 1)]\n",
      "311  :  [(3, 1), (4, 1), (9, 1)]\n",
      "312  :  [(3, 1), (4, 1), (10, 1)]\n",
      "313  :  [(3, 1), (5, 1), (6, 1)]\n",
      "314  :  [(3, 1), (5, 1), (7, 1)]\n",
      "315  :  [(3, 1), (5, 1), (8, 1)]\n",
      "316  :  [(3, 1), (5, 1), (9, 1)]\n",
      "317  :  [(3, 1), (5, 1), (10, 1)]\n",
      "318  :  [(3, 1), (6, 1), (7, 1)]\n",
      "319  :  [(3, 1), (6, 1), (8, 1)]\n",
      "320  :  [(3, 1), (6, 1), (9, 1)]\n",
      "321  :  [(3, 1), (6, 1), (10, 1)]\n",
      "322  :  [(3, 1), (7, 1), (8, 1)]\n",
      "323  :  [(3, 1), (7, 1), (9, 1)]\n",
      "324  :  [(3, 1), (7, 1), (10, 1)]\n",
      "325  :  [(3, 1), (8, 1), (9, 1)]\n",
      "326  :  [(3, 1), (8, 1), (10, 1)]\n",
      "327  :  [(3, 1), (9, 1), (10, 1)]\n",
      "328  :  [(4, 1), (5, 1), (6, 1)]\n",
      "329  :  [(4, 1), (5, 1), (7, 1)]\n",
      "330  :  [(4, 1), (5, 1), (8, 1)]\n",
      "331  :  [(4, 1), (5, 1), (9, 1)]\n",
      "332  :  [(4, 1), (5, 1), (10, 1)]\n",
      "333  :  [(4, 1), (6, 1), (7, 1)]\n",
      "334  :  [(4, 1), (6, 1), (8, 1)]\n",
      "335  :  [(4, 1), (6, 1), (9, 1)]\n",
      "336  :  [(4, 1), (6, 1), (10, 1)]\n",
      "337  :  [(4, 1), (7, 1), (8, 1)]\n",
      "338  :  [(4, 1), (7, 1), (9, 1)]\n",
      "339  :  [(4, 1), (7, 1), (10, 1)]\n",
      "340  :  [(4, 1), (8, 1), (9, 1)]\n",
      "341  :  [(4, 1), (8, 1), (10, 1)]\n",
      "342  :  [(4, 1), (9, 1), (10, 1)]\n",
      "343  :  [(5, 1), (6, 1), (7, 1)]\n",
      "344  :  [(5, 1), (6, 1), (8, 1)]\n",
      "345  :  [(5, 1), (6, 1), (9, 1)]\n",
      "346  :  [(5, 1), (6, 1), (10, 1)]\n",
      "347  :  [(5, 1), (7, 1), (8, 1)]\n",
      "348  :  [(5, 1), (7, 1), (9, 1)]\n",
      "349  :  [(5, 1), (7, 1), (10, 1)]\n",
      "350  :  [(5, 1), (8, 1), (9, 1)]\n",
      "351  :  [(5, 1), (8, 1), (10, 1)]\n",
      "352  :  [(5, 1), (9, 1), (10, 1)]\n",
      "353  :  [(6, 1), (7, 1), (8, 1)]\n",
      "354  :  [(6, 1), (7, 1), (9, 1)]\n",
      "355  :  [(6, 1), (7, 1), (10, 1)]\n",
      "356  :  [(6, 1), (8, 1), (9, 1)]\n",
      "357  :  [(6, 1), (8, 1), (10, 1)]\n",
      "358  :  [(6, 1), (9, 1), (10, 1)]\n",
      "359  :  [(7, 1), (8, 1), (9, 1)]\n",
      "360  :  [(7, 1), (8, 1), (10, 1)]\n",
      "361  :  [(7, 1), (9, 1), (10, 1)]\n",
      "362  :  [(8, 1), (9, 1), (10, 1)]\n"
     ]
    }
   ],
   "source": [
    "# Iterate over key/value pairs in dict and print them\n",
    "for key, value in cols.items():\n",
    "    print(key, ' : ', value)"
   ]
  },
  {
   "cell_type": "markdown",
   "id": "a691184a",
   "metadata": {},
   "source": [
    "It seems correct!! 🙏🏻"
   ]
  },
  {
   "cell_type": "markdown",
   "id": "e2f6ea1c",
   "metadata": {},
   "source": [
    "### (5) Set up a function for randomly generating feature matrices using the dict"
   ]
  },
  {
   "cell_type": "code",
   "execution_count": 110,
   "id": "456888bd",
   "metadata": {},
   "outputs": [],
   "source": [
    "def build_feature(ind):\n",
    "    \n",
    "    instructions = cols[ind]\n",
    "    \n",
    "    res = np.zeros(tx_test.shape[0])\n",
    "    \n",
    "    for col, pow_ in instructions:\n",
    "        \n",
    "        res += tx_test[:,col] ** pow_\n",
    "        \n",
    "    return res"
   ]
  },
  {
   "cell_type": "code",
   "execution_count": 111,
   "id": "d390a13f",
   "metadata": {},
   "outputs": [
    {
     "data": {
      "text/plain": [
       "array([ 9713.285136, 31111.990001, 12433.365025, ..., 35588.067904,\n",
       "       45214.742225,  9482.669641])"
      ]
     },
     "execution_count": 111,
     "metadata": {},
     "output_type": "execute_result"
    }
   ],
   "source": [
    "build_feature(177)"
   ]
  },
  {
   "cell_type": "code",
   "execution_count": 112,
   "id": "9bddba8e",
   "metadata": {},
   "outputs": [],
   "source": [
    "def build_random_feature_matrix(num_features):\n",
    "    \n",
    "    # set seed here if determinism desired\n",
    "    \n",
    "    features = np.random.choice(362, num_features) # random permutation of the 363 columns of the feature matrix\n",
    "                                                   # defined by the cols-dict\n",
    "        \n",
    "    res = np.zeros((tx_test.shape[0], num_features))\n",
    "    \n",
    "    for i in range(num_features):\n",
    "        \n",
    "        col = build_feature(features[i])\n",
    "        \n",
    "        res[:,i] = col\n",
    "        \n",
    "    return res"
   ]
  },
  {
   "cell_type": "code",
   "execution_count": 115,
   "id": "ef49e19f",
   "metadata": {},
   "outputs": [],
   "source": [
    "random_feature_matrix = build_random_feature_matrix(8)"
   ]
  },
  {
   "cell_type": "code",
   "execution_count": 116,
   "id": "f0613c55",
   "metadata": {},
   "outputs": [
    {
     "data": {
      "text/plain": [
       "(568238, 8)"
      ]
     },
     "execution_count": 116,
     "metadata": {},
     "output_type": "execute_result"
    }
   ],
   "source": [
    "np.shape(random_feature_matrix)"
   ]
  }
 ],
 "metadata": {
  "kernelspec": {
   "display_name": "ml_venv",
   "language": "python",
   "name": "ml_venv"
  },
  "language_info": {
   "codemirror_mode": {
    "name": "ipython",
    "version": 3
   },
   "file_extension": ".py",
   "mimetype": "text/x-python",
   "name": "python",
   "nbconvert_exporter": "python",
   "pygments_lexer": "ipython3",
   "version": "3.8.3"
  }
 },
 "nbformat": 4,
 "nbformat_minor": 5
}
