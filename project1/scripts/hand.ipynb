{
 "cells": [
  {
   "cell_type": "code",
   "execution_count": 1,
   "metadata": {},
   "outputs": [],
   "source": [
    "from classifiers import *\n",
    "from helpers import*\n",
    "from proj1_helpers import *\n",
    "from preprocessing import preprocess\n",
    "from validation import *\n",
    "from plots import *"
   ]
  },
  {
   "cell_type": "code",
   "execution_count": 2,
   "metadata": {},
   "outputs": [],
   "source": [
    "#load the goddamn data\n",
    "y, x, ids_train = load_csv_data('../data/train.csv')\n",
    "y_train, tx_train = preprocess(\n",
    "            y, x, \"NanToMean\", standardize_=True\n",
    "        )"
   ]
  },
  {
   "cell_type": "code",
   "execution_count": 3,
   "metadata": {},
   "outputs": [
    {
     "name": "stdout",
     "output_type": "stream",
     "text": [
      "ration:\t 0.8\n",
      "ratio of samples 1st subset:\t 0.34\n",
      "ratio of samples 2nd subset:\t 0.34\n",
      "x_train, x_test: (200000, 30) (50000,)\n",
      "y_train, y_test: (200000,) (50000,)\n",
      "values of y_train values of y_test {0.0, 1.0} {0.0, 1.0}\n"
     ]
    }
   ],
   "source": [
    "#split the data into train and test:\n",
    "x_train, y_train, x_test, y_test = split_data(x, y, 0.8, verbose=True, )\n",
    "y_train = (y_train + 1)/2.\n",
    "y_test = (y_test + 1)/2.\n",
    "print('x_train, x_test:', x_train.shape, y_test.shape)\n",
    "print('y_train, y_test:', y_train.shape, y_test.shape)\n",
    "print('values of y_train', 'values of y_test', set(y_train), set(y_test))"
   ]
  },
  {
   "cell_type": "code",
   "execution_count": 4,
   "metadata": {},
   "outputs": [
    {
     "name": "stdout",
     "output_type": "stream",
     "text": [
      "Using gammas =  0.0001\n",
      "Current iteration=0, loss=0.6090814605303826\n"
     ]
    },
    {
     "name": "stderr",
     "output_type": "stream",
     "text": [
      "c:\\Users\\fabri\\Documents\\GitHub\\ml_projects\\project1\\scripts\\utils.py:30: RuntimeWarning: overflow encountered in exp\n",
      "  return 1./ (1+ np.exp(-t))\n"
     ]
    },
    {
     "name": "stdout",
     "output_type": "stream",
     "text": [
      "Current iteration=100, loss=0.6090814817515021\n",
      "Using gammas =  0.001\n",
      "Current iteration=0, loss=0.37232950249900276\n",
      "Current iteration=100, loss=0.3723294948553728\n",
      "Using gammas =  1e-06\n",
      "Current iteration=0, loss=0.4872886270853676\n",
      "Current iteration=100, loss=0.4872886271220566\n",
      "Using gammas =  1e-07\n",
      "Current iteration=0, loss=0.6277617541388515\n",
      "Current iteration=100, loss=0.6277617541145586\n",
      "Using gammas =  1e-08\n",
      "Current iteration=0, loss=0.5257633754160543\n",
      "Current iteration=100, loss=0.5257633754151969\n",
      "Using gammas =  1e-09\n",
      "Current iteration=0, loss=0.3701652794915661\n",
      "Current iteration=100, loss=0.3701652794915507\n"
     ]
    }
   ],
   "source": [
    "#experimenting with different gammas\n",
    "gammas = [1e-4, 1e-3, 1e-6, 1e-7, 1e-8, 1e-9]\n",
    "classifiers = []\n",
    "for i in range(len(gammas)):\n",
    "    print('Using gammas = ', gammas[i])\n",
    "    clf = ClassifierLogisticRegression(\n",
    "            lambda_=0,\n",
    "            regularizer=None,\n",
    "            gamma= gammas[i],\n",
    "            max_iterations=200,\n",
    "            min_max_iterations = 300,\n",
    "            w_sampling_distr='uniform',\n",
    "            threshold=0,\n",
    "        )\n",
    "    clf.train(y_train, x_train, batch_size=-1, verbose = True, tx_validation = x_test, y_validation = y_test, store_gradient=True, store_losses=True)\n",
    "    classifiers += [clf]"
   ]
  },
  {
   "cell_type": "code",
   "execution_count": 13,
   "metadata": {},
   "outputs": [
    {
     "ename": "IndexError",
     "evalue": "list index out of range",
     "output_type": "error",
     "traceback": [
      "\u001b[1;31m---------------------------------------------------------------------------\u001b[0m",
      "\u001b[1;31mIndexError\u001b[0m                                Traceback (most recent call last)",
      "\u001b[1;32m<ipython-input-13-99b5db56a0fe>\u001b[0m in \u001b[0;36m<module>\u001b[1;34m\u001b[0m\n\u001b[0;32m      1\u001b[0m \u001b[0mselector\u001b[0m \u001b[1;33m=\u001b[0m \u001b[1;36m6\u001b[0m\u001b[1;33m\u001b[0m\u001b[1;33m\u001b[0m\u001b[0m\n\u001b[1;32m----> 2\u001b[1;33m \u001b[0mtraining_plots\u001b[0m\u001b[1;33m(\u001b[0m\u001b[0mclassifiers\u001b[0m\u001b[1;33m[\u001b[0m\u001b[0mselector\u001b[0m\u001b[1;33m]\u001b[0m\u001b[1;33m)\u001b[0m\u001b[1;33m\u001b[0m\u001b[1;33m\u001b[0m\u001b[0m\n\u001b[0m",
      "\u001b[1;31mIndexError\u001b[0m: list index out of range"
     ]
    }
   ],
   "source": [
    "selector = 6\n",
    "training_plots(classifiers[selector])"
   ]
  },
  {
   "cell_type": "code",
   "execution_count": 5,
   "metadata": {},
   "outputs": [
    {
     "name": "stdout",
     "output_type": "stream",
     "text": [
      "accuracy_train 0.62977 accuracy test 0.62984\n"
     ]
    }
   ],
   "source": [
    "dictionary = clf.get_params_and_results(x_train, x_test, y_train, y_test)\n",
    "print('accuracy_train', dictionary['accuracy_train'], 'accuracy test', dictionary['accuracy_test'])"
   ]
  },
  {
   "cell_type": "code",
   "execution_count": 6,
   "metadata": {},
   "outputs": [
    {
     "data": {
      "image/png": "[encoded data removed]",
      "text/plain": [
       "<Figure size 1440x360 with 2 Axes>"
      ]
     },
     "metadata": {
      "needs_background": "light"
     },
     "output_type": "display_data"
    }
   ],
   "source": [
    "training_plots(clf)"
   ]
  }
 ],
 "metadata": {
  "interpreter": {
   "hash": "7f89a89aa964b5e0e29a0e1d0886160f39ebbf2130b1a0b091fb1771632a4492"
  },
  "kernelspec": {
   "display_name": "Python 3.7.4 64-bit ('tirocinio': conda)",
   "name": "python3"
  },
  "language_info": {
   "codemirror_mode": {
    "name": "ipython",
    "version": 3
   },
   "file_extension": ".py",
   "mimetype": "text/x-python",
   "name": "python",
   "nbconvert_exporter": "python",
   "pygments_lexer": "ipython3",
   "version": "3.7.4"
  },
  "orig_nbformat": 4
 },
 "nbformat": 4,
 "nbformat_minor": 2
}
